{
 "cells": [
  {
   "cell_type": "markdown",
   "id": "b22ea9e9-0801-4bb2-a821-c41be3cb3df2",
   "metadata": {},
   "source": [
    "\n",
    "# Somerville Happiness Survey Analysis\n",
    "\n",
    "#### By Livia John\n",
    "\n",
    "##### STAT 2332: Probability and Data Analysis\n",
    "\n",
    "##### Background: Every two years, the City of Somerville sends out a happiness survey to a random sample of Somerville residents. The survey asks residents to rate their personal happiness, wellbeing, and satisfaction with City services. This combined dataset includes the survey responses from 2011 to 2021.\n",
    "######     \n",
    "###### Source of Data Set: https://data.somervillema.gov/Happiness/Somerville-Happiness-Survey-Responses/bi8e-5vw8/about_data "
   ]
  },
  {
   "cell_type": "markdown",
   "id": "dc57113a-9882-487e-b562-78dca4dfa14d",
   "metadata": {
    "jp-MarkdownHeadingCollapsed": true
   },
   "source": [
    "---\n",
    "## Setting up the environment:"
   ]
  },
  {
   "cell_type": "code",
   "execution_count": 3,
   "id": "c4d8e81b-f61c-4004-b780-11c4d59cfb7f",
   "metadata": {},
   "outputs": [],
   "source": [
    "library(tidyverse)\n",
    "library(ggplot2)\n",
    "library(corrplot)\n",
    "library(dplyr)\n",
    "library(knitr)\n"
   ]
  },
  {
   "cell_type": "markdown",
   "id": "69f39db8-d1ae-4929-ae72-43f9fdead11a",
   "metadata": {
    "jp-MarkdownHeadingCollapsed": true
   },
   "source": [
    "---\n",
    "\n",
    "## The data at a glance:"
   ]
  },
  {
   "cell_type": "code",
   "execution_count": 13,
   "id": "77912567-d1a2-49f7-8688-9871a12658e2",
   "metadata": {},
   "outputs": [
    {
     "data": {
      "text/html": [
       "<table class=\"dataframe\">\n",
       "<caption>A data.frame: 5 × 12</caption>\n",
       "<thead>\n",
       "\t<tr><th></th><th scope=col>ID</th><th scope=col>Year</th><th scope=col>Happiness.Level</th><th scope=col>Satisfaction.Level</th><th scope=col>City.Satisfaction</th><th scope=col>Gender</th><th scope=col>Age</th><th scope=col>Marital.Status</th><th scope=col>Ethnicity</th><th scope=col>Children</th><th scope=col>Annual.Household.Income</th><th scope=col>Household.Income.Mid</th></tr>\n",
       "\t<tr><th></th><th scope=col>&lt;int&gt;</th><th scope=col>&lt;int&gt;</th><th scope=col>&lt;int&gt;</th><th scope=col>&lt;int&gt;</th><th scope=col>&lt;int&gt;</th><th scope=col>&lt;chr&gt;</th><th scope=col>&lt;chr&gt;</th><th scope=col>&lt;chr&gt;</th><th scope=col>&lt;chr&gt;</th><th scope=col>&lt;chr&gt;</th><th scope=col>&lt;chr&gt;</th><th scope=col>&lt;int&gt;</th></tr>\n",
       "</thead>\n",
       "<tbody>\n",
       "\t<tr><th scope=row>1</th><td> 2</td><td>2011</td><td> 7</td><td> 8</td><td> 9</td><td>Female</td><td>55-64</td><td>Divorced\n",
       "</td><td>White                    </td><td>no</td><td>$50,000 to $74,999</td><td>70000</td></tr>\n",
       "\t<tr><th scope=row>2</th><td> 4</td><td>2011</td><td>10</td><td>10</td><td>10</td><td>Female</td><td>65-74</td><td>Divorced\n",
       "</td><td>Two or more races        </td><td>no</td><td>$50,000 to $74,999</td><td>50000</td></tr>\n",
       "\t<tr><th scope=row>3</th><td> 6</td><td>2011</td><td> 8</td><td> 8</td><td> 8</td><td>Male  </td><td>55-64</td><td>Divorced\n",
       "</td><td>White                    </td><td>no</td><td>$25,000 to $49,999</td><td>30000</td></tr>\n",
       "\t<tr><th scope=row>4</th><td> 8</td><td>2011</td><td>10</td><td>10</td><td> 8</td><td>Female</td><td>75+  </td><td>Widowed   </td><td>Black or African American</td><td>no</td><td>Less than $25,000 </td><td>10000</td></tr>\n",
       "\t<tr><th scope=row>5</th><td>10</td><td>2011</td><td> 5</td><td> 5</td><td> 7</td><td>Male  </td><td>55-64</td><td>Married   </td><td>White                    </td><td>no</td><td>$50,000 to $74,999</td><td>70000</td></tr>\n",
       "</tbody>\n",
       "</table>\n"
      ],
      "text/latex": [
       "A data.frame: 5 × 12\n",
       "\\begin{tabular}{r|llllllllllll}\n",
       "  & ID & Year & Happiness.Level & Satisfaction.Level & City.Satisfaction & Gender & Age & Marital.Status & Ethnicity & Children & Annual.Household.Income & Household.Income.Mid\\\\\n",
       "  & <int> & <int> & <int> & <int> & <int> & <chr> & <chr> & <chr> & <chr> & <chr> & <chr> & <int>\\\\\n",
       "\\hline\n",
       "\t1 &  2 & 2011 &  7 &  8 &  9 & Female & 55-64 & Divorced\n",
       " & White                     & no & \\$50,000 to \\$74,999 & 70000\\\\\n",
       "\t2 &  4 & 2011 & 10 & 10 & 10 & Female & 65-74 & Divorced\n",
       " & Two or more races         & no & \\$50,000 to \\$74,999 & 50000\\\\\n",
       "\t3 &  6 & 2011 &  8 &  8 &  8 & Male   & 55-64 & Divorced\n",
       " & White                     & no & \\$25,000 to \\$49,999 & 30000\\\\\n",
       "\t4 &  8 & 2011 & 10 & 10 &  8 & Female & 75+   & Widowed    & Black or African American & no & Less than \\$25,000  & 10000\\\\\n",
       "\t5 & 10 & 2011 &  5 &  5 &  7 & Male   & 55-64 & Married    & White                     & no & \\$50,000 to \\$74,999 & 70000\\\\\n",
       "\\end{tabular}\n"
      ],
      "text/markdown": [
       "\n",
       "A data.frame: 5 × 12\n",
       "\n",
       "| <!--/--> | ID &lt;int&gt; | Year &lt;int&gt; | Happiness.Level &lt;int&gt; | Satisfaction.Level &lt;int&gt; | City.Satisfaction &lt;int&gt; | Gender &lt;chr&gt; | Age &lt;chr&gt; | Marital.Status &lt;chr&gt; | Ethnicity &lt;chr&gt; | Children &lt;chr&gt; | Annual.Household.Income &lt;chr&gt; | Household.Income.Mid &lt;int&gt; |\n",
       "|---|---|---|---|---|---|---|---|---|---|---|---|---|\n",
       "| 1 |  2 | 2011 |  7 |  8 |  9 | Female | 55-64 | Divorced\n",
       " | White                     | no | $50,000 to $74,999 | 70000 |\n",
       "| 2 |  4 | 2011 | 10 | 10 | 10 | Female | 65-74 | Divorced\n",
       " | Two or more races         | no | $50,000 to $74,999 | 50000 |\n",
       "| 3 |  6 | 2011 |  8 |  8 |  8 | Male   | 55-64 | Divorced\n",
       " | White                     | no | $25,000 to $49,999 | 30000 |\n",
       "| 4 |  8 | 2011 | 10 | 10 |  8 | Female | 75+   | Widowed    | Black or African American | no | Less than $25,000  | 10000 |\n",
       "| 5 | 10 | 2011 |  5 |  5 |  7 | Male   | 55-64 | Married    | White                     | no | $50,000 to $74,999 | 70000 |\n",
       "\n"
      ],
      "text/plain": [
       "  ID Year Happiness.Level Satisfaction.Level City.Satisfaction Gender Age  \n",
       "1  2 2011  7               8                  9                Female 55-64\n",
       "2  4 2011 10              10                 10                Female 65-74\n",
       "3  6 2011  8               8                  8                Male   55-64\n",
       "4  8 2011 10              10                  8                Female 75+  \n",
       "5 10 2011  5               5                  7                Male   55-64\n",
       "  Marital.Status Ethnicity                 Children Annual.Household.Income\n",
       "1 Divorced\\n     White                     no       $50,000 to $74,999     \n",
       "2 Divorced\\n     Two or more races         no       $50,000 to $74,999     \n",
       "3 Divorced\\n     White                     no       $25,000 to $49,999     \n",
       "4 Widowed        Black or African American no       Less than $25,000      \n",
       "5 Married        White                     no       $50,000 to $74,999     \n",
       "  Household.Income.Mid\n",
       "1 70000               \n",
       "2 50000               \n",
       "3 30000               \n",
       "4 10000               \n",
       "5 70000               "
      ]
     },
     "metadata": {},
     "output_type": "display_data"
    }
   ],
   "source": [
    "happy_data <- read.csv(\"data/happy.csv\")\n",
    "head(happy_data, 5)"
   ]
  },
  {
   "cell_type": "code",
   "execution_count": 14,
   "id": "35dfcf19-31e9-4ed0-8dcd-acde93423bbd",
   "metadata": {},
   "outputs": [
    {
     "name": "stdout",
     "output_type": "stream",
     "text": [
      "[1] 9540   12\n"
     ]
    }
   ],
   "source": [
    "data_dimensions <- dim(happy_data)\n",
    "print(data_dimensions)"
   ]
  },
  {
   "cell_type": "code",
   "execution_count": 15,
   "id": "3b0a4494-426c-427b-90bb-79e7233857b0",
   "metadata": {
    "scrolled": true
   },
   "outputs": [
    {
     "data": {
      "text/plain": [
       "       ID             Year      Happiness.Level  Satisfaction.Level\n",
       " Min.   :    2   Min.   :2011   Min.   : 1.000   Min.   : 1.000    \n",
       " 1st Qu.: 1628   1st Qu.:2011   1st Qu.: 7.000   1st Qu.: 7.000    \n",
       " Median : 3868   Median :2011   Median : 8.000   Median : 8.000    \n",
       " Mean   : 4341   Mean   :2014   Mean   : 7.468   Mean   : 7.679    \n",
       " 3rd Qu.: 6511   3rd Qu.:2019   3rd Qu.: 9.000   3rd Qu.: 9.000    \n",
       " Max.   :10742   Max.   :2021   Max.   :10.000   Max.   :10.000    \n",
       "                                                 NA's   :35        \n",
       " City.Satisfaction    Gender              Age            Marital.Status    \n",
       " Min.   : 1.000    Length:9540        Length:9540        Length:9540       \n",
       " 1st Qu.: 7.000    Class :character   Class :character   Class :character  \n",
       " Median : 8.000    Mode  :character   Mode  :character   Mode  :character  \n",
       " Mean   : 7.728                                                            \n",
       " 3rd Qu.: 9.000                                                            \n",
       " Max.   :10.000                                                            \n",
       " NA's   :5564                                                              \n",
       "  Ethnicity           Children         Annual.Household.Income\n",
       " Length:9540        Length:9540        Length:9540            \n",
       " Class :character   Class :character   Class :character       \n",
       " Mode  :character   Mode  :character   Mode  :character       \n",
       "                                                              \n",
       "                                                              \n",
       "                                                              \n",
       "                                                              \n",
       " Household.Income.Mid\n",
       " Min.   :  5000      \n",
       " 1st Qu.: 50000      \n",
       " Median : 70000      \n",
       " Mean   :101812      \n",
       " 3rd Qu.:175000      \n",
       " Max.   :250000      \n",
       "                     "
      ]
     },
     "metadata": {},
     "output_type": "display_data"
    }
   ],
   "source": [
    "summary(happy_data)"
   ]
  },
  {
   "cell_type": "markdown",
   "id": "c756c8c0-89a0-4003-a93f-a77183a4e442",
   "metadata": {},
   "source": [
    "---\n",
    "\n",
    "## Income Level and Happiness Analysis"
   ]
  },
  {
   "cell_type": "markdown",
   "id": "b5abacbc-b584-4308-9483-ea31f50cf3d3",
   "metadata": {},
   "source": [
    "#### Research Question: How does household income correlate with reported happiness levels among Somerville residents?\n"
   ]
  },
  {
   "cell_type": "code",
   "execution_count": 22,
   "id": "8f269a00-1d4a-4bee-9570-38fc4e2b0db9",
   "metadata": {},
   "outputs": [
    {
     "name": "stdout",
     "output_type": "stream",
     "text": [
      " [1]  70000  50000  30000  10000  90000 170000 110000 250000 150000 130000\n",
      "[11] 190000   5000  37500  17500  15000  62500  87500 125000 200000 175000\n",
      "[21] 225000\n"
     ]
    }
   ],
   "source": [
    "unique_incomes <- unique(happy_data$Household.Income.Mid)\n",
    "print(unique_incomes)"
   ]
  },
  {
   "cell_type": "code",
   "execution_count": 29,
   "id": "8ea0df51-a71a-446d-af48-d4be6d25ea2c",
   "metadata": {
    "scrolled": true
   },
   "outputs": [
    {
     "data": {
      "image/png": "[encoded data removed]",
      "text/plain": [
       "plot without title"
      ]
     },
     "metadata": {
      "image/png": {
       "height": 480,
       "width": 600
      }
     },
     "output_type": "display_data"
    }
   ],
   "source": [
    "# Convert Household.Income.Mid to a factor with levels ordered numerically\n",
    "happy_data$Household.Income.Mid <- factor(happy_data$Household.Income.Mid, levels = unique(happy_data$Household.Income.Mid))\n",
    "\n",
    "# Subset the data\n",
    "data_subset <- happy_data %>%\n",
    "  select(Happiness.Level, Household.Income.Mid)\n",
    "\n",
    "# Group data by income level\n",
    "grouped_data <- data_subset %>%\n",
    "  group_by(Household.Income.Mid)\n",
    "\n",
    "# Calculate summary statistics for happiness within each income group\n",
    "summary_stats <- grouped_data %>%\n",
    "  summarise(mean_happiness = mean(Happiness.Level, na.rm = TRUE),\n",
    "            median_happiness = median(Happiness.Level, na.rm = TRUE))\n",
    "\n",
    "# Visualize the relationship between income level and happiness\n",
    "ggplot(summary_stats, aes(x = Household.Income.Mid, y = mean_happiness)) +\n",
    "  geom_bar(stat = \"identity\") +\n",
    "  labs(x = \"Annual Household Income\", y = \"Mean Happiness\", title = \"Mean Happiness by Income Level\") +\n",
    "  theme(axis.text.x = element_text(angle = 90, hjust = 1))\n",
    "options(repr.plot.width = 10, repr.plot.height = 8)"
   ]
  },
  {
   "cell_type": "code",
   "execution_count": 92,
   "id": "e709091d-6dc7-47e3-bacc-a6f52f8b261d",
   "metadata": {},
   "outputs": [
    {
     "data": {
      "text/plain": [
       "\n",
       "\n",
       "| Household Income Mid| Mean Happiness|\n",
       "|--------------------:|--------------:|\n",
       "|                 5000|       6.900000|\n",
       "|                10000|       7.000000|\n",
       "|                15000|       7.112805|\n",
       "|                17500|       7.278481|\n",
       "|                30000|       7.231694|\n",
       "|                37500|       7.312057|\n",
       "|                50000|       7.416819|\n",
       "|                62500|       7.361423|\n",
       "|                70000|       7.497807|\n",
       "|                87500|       7.306043|\n",
       "|                90000|       7.531250|\n",
       "|               110000|       7.632653|\n",
       "|               125000|       7.531065|\n",
       "|               130000|       7.500000|\n",
       "|               150000|       7.800000|\n",
       "|               170000|       7.785714|\n",
       "|               175000|       7.570652|\n",
       "|               190000|       7.357143|\n",
       "|               200000|       7.766773|\n",
       "|               225000|       7.187500|\n",
       "|               250000|       7.805556|"
      ]
     },
     "metadata": {},
     "output_type": "display_data"
    }
   ],
   "source": [
    "# Reshape summary_stats data\n",
    "summary_table <- data.frame(Income_Level = summary_stats$Household.Income.Mid,\n",
    "                            Mean_Happiness = summary_stats$mean_happiness)\n",
    "\n",
    "# Print the table\n",
    "kable(summary_table, col.names = c(\"Household Income Mid\", \"Mean Happiness\"))"
   ]
  },
  {
   "cell_type": "code",
   "execution_count": 89,
   "id": "9d2869e1-0c3f-401d-b3ac-dcd9876bc300",
   "metadata": {},
   "outputs": [
    {
     "name": "stdout",
     "output_type": "stream",
     "text": [
      "[1] 0.1070491\n"
     ]
    }
   ],
   "source": [
    "correlation <- cor(happy_data$Household.Income.Mid, happy_data$Happiness.Level)\n",
    "\n",
    "# Print the correlation coefficient\n",
    "print(correlation)"
   ]
  },
  {
   "cell_type": "code",
   "execution_count": 8,
   "id": "8ab02cf3-f703-4eb5-af8b-d0ef707f41e4",
   "metadata": {},
   "outputs": [
    {
     "name": "stdout",
     "output_type": "stream",
     "text": [
      "                                ID        Year Happiness.Level\n",
      "ID                    1.0000000000  0.43855852     -0.01475855\n",
      "Year                  0.4385585182  1.00000000     -0.01934336\n",
      "Happiness.Level      -0.0147585462 -0.01934336      1.00000000\n",
      "Satisfaction.Level   -0.0006226056  0.01352863      0.75883493\n",
      "City.Satisfaction    -0.0220873654 -0.08031993      0.46941808\n",
      "Household.Income.Mid  0.0707107862  0.17726064      0.10704906\n",
      "                     Satisfaction.Level City.Satisfaction Household.Income.Mid\n",
      "ID                        -0.0006226056       -0.02208737           0.07071079\n",
      "Year                       0.0135286339       -0.08031993           0.17726064\n",
      "Happiness.Level            0.7588349331        0.46941808           0.10704906\n",
      "Satisfaction.Level         1.0000000000        0.36346450           0.15017250\n",
      "City.Satisfaction          0.3634645028        1.00000000           0.06544500\n",
      "Household.Income.Mid       0.1501725006        0.06544500           1.00000000\n"
     ]
    }
   ],
   "source": [
    "correlation_matrix <- cor(happy_data[, sapply(happy_data, is.numeric)], use = \"pairwise.complete.obs\")\n",
    "\n",
    "# View the correlation matrix\n",
    "print(correlation_matrix)"
   ]
  },
  {
   "cell_type": "markdown",
   "id": "57efe2aa-99fa-4395-97fc-b1352873bd80",
   "metadata": {},
   "source": [
    "\n",
    "#### *The correlation coefficient between income level and happiness is 0.1070491, indicating a very weak positive correlation and suggesting that income level is not a reliable predictor of happiness.*"
   ]
  },
  {
   "cell_type": "markdown",
   "id": "ac9897b2-182b-404b-b49a-a71e1cfd8d9f",
   "metadata": {
    "jp-MarkdownHeadingCollapsed": true
   },
   "source": [
    "---\n",
    "\n",
    "## Maritial Status and Happiness Analysis"
   ]
  },
  {
   "cell_type": "code",
   "execution_count": 117,
   "id": "d403ca3b-cba3-411d-99ac-b8777723e953",
   "metadata": {
    "scrolled": true
   },
   "outputs": [
    {
     "name": "stdout",
     "output_type": "stream",
     "text": [
      "\u001b[90m# A tibble: 5 × 2\u001b[39m\n",
      "  Marital.Status                         mean_happiness\n",
      "  \u001b[3m\u001b[90m<chr>\u001b[39m\u001b[23m                                           \u001b[3m\u001b[90m<dbl>\u001b[39m\u001b[23m\n",
      "\u001b[90m1\u001b[39m Divorced/ Separated                              7.51\n",
      "\u001b[90m2\u001b[39m Living with a partner, but not married           7.24\n",
      "\u001b[90m3\u001b[39m Married                                          7.65\n",
      "\u001b[90m4\u001b[39m Single, Never Married                            7.11\n",
      "\u001b[90m5\u001b[39m Widowed                                          7.69\n"
     ]
    }
   ],
   "source": [
    "happy_data <- happy_data %>% filter(Marital.Status != \"\")\n",
    "\n",
    "# Group data by Marital.Status\n",
    "grouped_data <- happy_data %>%\n",
    "  group_by(Marital.Status)\n",
    "\n",
    "# Calculate summary statistics for happiness within each marital status group\n",
    "summary_stats <- grouped_data %>%\n",
    "  summarise(mean_happiness = mean(Happiness.Level, na.rm = TRUE))\n",
    "\n",
    "# Print summary statistics\n",
    "print(summary_stats)"
   ]
  },
  {
   "cell_type": "markdown",
   "id": "8f9a38f8-9dd4-4bc0-b58a-f32fe60cf19a",
   "metadata": {},
   "source": [
    "\n",
    "#### *The findings reveal varying levels of reported happiness across different marital statuses, with widowed individuals indicating the highest average happiness (7.69), followed by married individuals (7.65), while those who have never married report the lowest average happiness level (7.11).*"
   ]
  },
  {
   "cell_type": "markdown",
   "id": "6797576b-e203-4d1b-afe6-415b0206e6a8",
   "metadata": {
    "jp-MarkdownHeadingCollapsed": true
   },
   "source": [
    "---\n",
    "\n",
    "## Comparison of Happiness Levels: With and Without Children"
   ]
  },
  {
   "cell_type": "code",
   "execution_count": 115,
   "id": "e36312cb-e002-485b-b312-98dafe1d2bae",
   "metadata": {
    "scrolled": true
   },
   "outputs": [
    {
     "name": "stdout",
     "output_type": "stream",
     "text": [
      "\u001b[90m# A tibble: 2 × 2\u001b[39m\n",
      "  Children mean_happiness\n",
      "  \u001b[3m\u001b[90m<chr>\u001b[39m\u001b[23m             \u001b[3m\u001b[90m<dbl>\u001b[39m\u001b[23m\n",
      "\u001b[90m1\u001b[39m no                 7.44\n",
      "\u001b[90m2\u001b[39m yes                7.55\n"
     ]
    }
   ],
   "source": [
    "happy_data <- happy_data %>% filter(Children != \"\")\n",
    "\n",
    "# Group data by Marital.Status\n",
    "grouped_data <- happy_data %>%\n",
    "  group_by(Children)\n",
    "\n",
    "# Calculate summary statistics for happiness within each marital status group\n",
    "summary_stats <- grouped_data %>%\n",
    "  summarise(mean_happiness = mean(Happiness.Level, na.rm = TRUE))\n",
    "\n",
    "# Print summary statistics\n",
    "print(summary_stats)"
   ]
  },
  {
   "cell_type": "markdown",
   "id": "822e9eaf-6b7a-4575-840d-15286ba73a84",
   "metadata": {},
   "source": [
    "\n",
    "\n",
    "#### *The findings indicate a slight difference in reported happiness levels between individuals with children (7.55) and those without children (7.44), suggesting that the presence of children may have a marginal positive impact on reported happiness.*"
   ]
  },
  {
   "cell_type": "markdown",
   "id": "1972668a-6bb1-40f2-b596-c984e75a0d91",
   "metadata": {},
   "source": [
    "---\n",
    "## Race and Happiness Analysis"
   ]
  },
  {
   "cell_type": "code",
   "execution_count": 133,
   "id": "dbd5ca66-53e5-49fa-b313-8953ce2f8278",
   "metadata": {
    "scrolled": true
   },
   "outputs": [
    {
     "name": "stdout",
     "output_type": "stream",
     "text": [
      "\u001b[90m# A tibble: 6 × 2\u001b[39m\n",
      "  Ethnicity                 mean_happiness\n",
      "  \u001b[3m\u001b[90m<chr>\u001b[39m\u001b[23m                              \u001b[3m\u001b[90m<dbl>\u001b[39m\u001b[23m\n",
      "\u001b[90m1\u001b[39m Another race                        7.64\n",
      "\u001b[90m2\u001b[39m Asian or Pacific Islander           7.58\n",
      "\u001b[90m3\u001b[39m Black or African American           7.65\n",
      "\u001b[90m4\u001b[39m Hispanic or Latino                  7.77\n",
      "\u001b[90m5\u001b[39m Two or more races                   7.29\n",
      "\u001b[90m6\u001b[39m White                               7.45\n"
     ]
    }
   ],
   "source": [
    "happy_data <- happy_data %>% filter(Ethnicity != \"\")\n",
    "\n",
    "# Group data by Marital.Status\n",
    "grouped_data <- happy_data %>%\n",
    "  group_by(Ethnicity)\n",
    "\n",
    "# Calculate summary statistics for happiness within each marital status group\n",
    "summary_stats <- grouped_data %>%\n",
    "  summarise(mean_happiness = mean(Happiness.Level, na.rm = TRUE))\n",
    "\n",
    "# Print summary statistics\n",
    "print(summary_stats)"
   ]
  },
  {
   "cell_type": "markdown",
   "id": "7b1c6974-5036-4c5c-899f-5a08cf902b0f",
   "metadata": {},
   "source": [
    "\n",
    "#### *The findings reveal variations in reported happiness levels across different ethnicities, with Hispanic or Latino individuals indicating the highest average happiness (7.77), while those identifying as Two or more races report the lowest average happiness level (7.29).*"
   ]
  }
 ],
 "metadata": {
  "kernelspec": {
   "display_name": "R",
   "language": "R",
   "name": "ir"
  },
  "language_info": {
   "codemirror_mode": "r",
   "file_extension": ".r",
   "mimetype": "text/x-r-source",
   "name": "R",
   "pygments_lexer": "r",
   "version": "4.3.2"
  }
 },
 "nbformat": 4,
 "nbformat_minor": 5
}
